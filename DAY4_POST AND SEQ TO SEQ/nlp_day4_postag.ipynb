{
  "nbformat": 4,
  "nbformat_minor": 0,
  "metadata": {
    "colab": {
      "provenance": []
    },
    "kernelspec": {
      "name": "python3",
      "display_name": "Python 3"
    },
    "language_info": {
      "name": "python"
    }
  },
  "cells": [
    {
      "cell_type": "code",
      "source": [
        "import nltk\n",
        "from nltk.tokenize import word_tokenize\n",
        "from nltk.tag import pos_tag\n",
        "\n",
        "# Sample input text\n",
        "text = \"I EATING APPLE\"\n",
        "text2=\"I AM PLAYING CRICKET\"\n",
        "\n",
        "# Tokenize the text into words\n",
        "tokens = word_tokenize(text)\n",
        "token2=word_tokenize(text2)\n",
        "\n",
        "# Perform POS tagging\n",
        "pos_tags = pos_tag(tokens)\n",
        "pos_tags2=pos_tag(token2)\n",
        "\n",
        "# Print the POS tagged output\n",
        "print(pos_tags)\n",
        "print(pos_tags2)\n"
      ],
      "metadata": {
        "colab": {
          "base_uri": "https://localhost:8080/"
        },
        "id": "-7Sr1mWEO9YQ",
        "outputId": "97061544-f2c6-4ae7-fdc5-2d4cc28263a9"
      },
      "execution_count": null,
      "outputs": [
        {
          "output_type": "stream",
          "name": "stdout",
          "text": [
            "[('I', 'PRP'), ('EATING', 'VBP'), ('APPLE', 'NNP')]\n",
            "[('I', 'PRP'), ('AM', 'VBP'), ('PLAYING', 'VBG'), ('CRICKET', 'NN')]\n"
          ]
        }
      ]
    },
    {
      "cell_type": "code",
      "source": [
        "import nltk\n",
        "from nltk.tokenize import word_tokenize\n",
        "from nltk.tag import pos_tag\n",
        "\n",
        "# Sample input text\n",
        "text = \"The quick brown fox jumps over the lazy dog.\"\n",
        "\n",
        "# Tokenize the text into words\n",
        "tokens = word_tokenize(text)\n",
        "\n",
        "# Perform POS tagging\n",
        "pos_tags = pos_tag(tokens)\n",
        "\n",
        "# Print the POS tagged output\n",
        "print(pos_tags)\n"
      ],
      "metadata": {
        "colab": {
          "base_uri": "https://localhost:8080/"
        },
        "id": "eubld6FYb_aQ",
        "outputId": "01e31d7a-bdc0-47e7-e55d-0ddf75b24cad"
      },
      "execution_count": null,
      "outputs": [
        {
          "output_type": "stream",
          "name": "stdout",
          "text": [
            "[('The', 'DT'), ('quick', 'JJ'), ('brown', 'NN'), ('fox', 'NN'), ('jumps', 'VBZ'), ('over', 'IN'), ('the', 'DT'), ('lazy', 'JJ'), ('dog', 'NN'), ('.', '.')]\n"
          ]
        }
      ]
    }
  ]
}
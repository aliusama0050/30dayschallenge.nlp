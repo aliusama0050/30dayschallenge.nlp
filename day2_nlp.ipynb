{
  "nbformat": 4,
  "nbformat_minor": 0,
  "metadata": {
    "colab": {
      "provenance": []
    },
    "kernelspec": {
      "name": "python3",
      "display_name": "Python 3"
    },
    "language_info": {
      "name": "python"
    }
  },
  "cells": [
    {
      "cell_type": "code",
      "execution_count": 11,
      "metadata": {
        "colab": {
          "base_uri": "https://localhost:8080/"
        },
        "id": "wajvDC8VJyNo",
        "outputId": "cea2ff44-c065-4094-8404-1f56b495188e"
      },
      "outputs": [
        {
          "output_type": "stream",
          "name": "stdout",
          "text": [
            "[[1.         0.02204341]\n",
            " [0.02204341 1.        ]]\n",
            "0\n"
          ]
        }
      ],
      "source": [
        "import pandas as pd\n",
        "from sklearn.feature_extraction.text import TfidfVectorizer\n",
        "import requests\n",
        "\n",
        "# Replace with actual URLs for resume and job application\n",
        "resume_url = \"https://www.academia.edu/14730001/Bill_Gates_Biography_in_full_William_Henry_Gates_III_1955\"\n",
        "job_application_url = \"https://www.comsats.edu.pk/nefiles/eligibilitycriteria_nonfacultyposition.pdf\"\n",
        "\n",
        "# Fetch text data from URLs\n",
        "def fetch_text_from_url(url):\n",
        "    try:\n",
        "        response = requests.get(url)\n",
        "        if response.status_code == 200:\n",
        "            return response.text\n",
        "        else:\n",
        "            print(f\"Error fetching data from {url}\")\n",
        "            return None\n",
        "    except Exception as e:\n",
        "        print(f\"Error fetching data from {url}: {e}\")\n",
        "        return None\n",
        "\n",
        "# Get resume and job application text\n",
        "resume_text = fetch_text_from_url(resume_url)\n",
        "job_application_text = fetch_text_from_url(job_application_url)\n",
        "\n",
        "if resume_text and job_application_text:\n",
        "    # Concatenate all texts\n",
        "    all_texts = [resume_text, job_application_text]\n",
        "\n",
        "    # Initialize the TF-IDF vectorizer\n",
        "    vectorizer = TfidfVectorizer(stop_words='english')\n",
        "\n",
        "    # Fit and transform all texts\n",
        "    tfidf_matrix = vectorizer.fit_transform(all_texts)\n",
        "\n",
        "    # Calculate cosine similarity matrix\n",
        "    cosine_similarity = (tfidf_matrix * tfidf_matrix.T).toarray()\n",
        "    print(cosine_similarity)\n",
        "\n",
        "    # Accuracy and F-score\n",
        "    threshold = 0.5\n",
        "\n",
        "    # Assuming the documents are similar\n",
        "    predicted_similarity = (cosine_similarity[0, 1] > threshold).astype(int)\n",
        "    actual_similarity = 1\n",
        "\n",
        "    print(predicted_similarity)\n",
        "else:\n",
        "    print(\"Error fetching data from URLs. Please check the URLs.\")\n",
        "\n"
      ]
    }
  ]
}
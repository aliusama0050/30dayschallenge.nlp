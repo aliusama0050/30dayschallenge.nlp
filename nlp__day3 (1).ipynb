{
  "nbformat": 4,
  "nbformat_minor": 0,
  "metadata": {
    "colab": {
      "provenance": []
    },
    "kernelspec": {
      "name": "python3",
      "display_name": "Python 3"
    },
    "language_info": {
      "name": "python"
    }
  },
  "cells": [
    {
      "cell_type": "code",
      "source": [
        "import json\n",
        "import pandas as pd\n",
        "import gensim\n",
        "from gensim.models import Word2Vec\n",
        "from nltk.tokenize import word_tokenize\n",
        "import nltk\n",
        "import os\n",
        "\n",
        "# Assuming your dataset file is located at \"\"\n",
        "data_file_path = \"/content/AllCombined.txt\"\n",
        "\n",
        "# Load data from the dataset file\n",
        "with open(data_file_path, \"r\", encoding=\"utf-8\") as f:\n",
        "    data = f.readlines()\n",
        "\n",
        "# Convert data to DataFrame\n",
        "df = pd.DataFrame(data, columns=[\"reviewText\"])\n",
        "\n",
        "# Tokenize the reviewText\n",
        "reviewText = df.reviewText.apply(gensim.utils.simple_preprocess)\n",
        "\n",
        "# Train the Word2Vec model\n",
        "model = Word2Vec(\n",
        "    sentences=reviewText,\n",
        "    vector_size=100,\n",
        "    window=10,\n",
        "    min_count=2,\n",
        "    workers=4,\n",
        "    sorted_vocab=False\n",
        ")\n",
        "\n",
        "# Specify the directory to save the model\n",
        "save_dir = \"/content/drive/My Drive/\"\n",
        "if not os.path.exists(save_dir):\n",
        "    os.makedirs(save_dir)\n",
        "\n",
        "# Save the trained model\n",
        "model_path = os.path.join(save_dir, \"word2vec_model.bin\")\n",
        "model.save(model_path)\n",
        "\n",
        "# Load the saved model\n",
        "model_saved = Word2Vec.load(model_path)\n",
        "\n",
        "# Example of finding similar words\n",
        "similar_words = model_saved.wv.most_similar(\"sports\")\n",
        "print(\"Similar words to 'sports':\", similar_words)\n",
        "\n",
        "# Example of calculating similarity between words\n",
        "similarity_score = model_saved.wv.similarity(w1=\"human\", w2=\"computer\")\n",
        "print(\"Similarity score between 'human' and 'computer':\", similarity_score)\n",
        "\n",
        "similarity_score = model_saved.wv.similarity(w1=\"machine\", w2=\"computer\")\n",
        "print(\"Similarity score between 'machine' and 'computer':\", similarity_score)\n",
        "\n"
      ],
      "metadata": {
        "colab": {
          "base_uri": "https://localhost:8080/"
        },
        "id": "5mnBgpRaWdBi",
        "outputId": "48d0948c-0ee7-4d7c-a707-281e8deb9823"
      },
      "execution_count": 5,
      "outputs": [
        {
          "output_type": "stream",
          "name": "stdout",
          "text": [
            "Similar words to 'sports': [('sport', 0.8117619156837463), ('sporting', 0.7387698292732239), ('competitions', 0.7132552266120911), ('cycling', 0.6727641224861145), ('athletic', 0.6577788591384888), ('golf', 0.6553894281387329), ('espn', 0.6523968577384949), ('soccer', 0.6372227072715759), ('clubs', 0.6343850493431091), ('tournaments', 0.62979656457901)]\n",
            "Similarity score between 'human' and 'computer': 0.26603863\n",
            "Similarity score between 'machine' and 'computer': 0.643731\n"
          ]
        }
      ]
    }
  ]
}